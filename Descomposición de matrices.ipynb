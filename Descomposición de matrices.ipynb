{
 "cells": [
  {
   "cell_type": "code",
   "execution_count": 1,
   "id": "dense-stylus",
   "metadata": {},
   "outputs": [],
   "source": [
    "import numpy as np"
   ]
  },
  {
   "cell_type": "code",
   "execution_count": 4,
   "id": "exempt-butler",
   "metadata": {},
   "outputs": [
    {
     "name": "stdout",
     "output_type": "stream",
     "text": [
      "[[3 2]\n",
      " [4 1]]\n"
     ]
    }
   ],
   "source": [
    "A = np.array([\n",
    "    [3,2],\n",
    "    [4,1]\n",
    "])\n",
    "\n",
    "print(A)"
   ]
  },
  {
   "cell_type": "code",
   "execution_count": 5,
   "id": "entitled-banner",
   "metadata": {},
   "outputs": [],
   "source": [
    "autovalores, autovectores = np.linalg.eig(A)"
   ]
  },
  {
   "cell_type": "code",
   "execution_count": 6,
   "id": "simple-violin",
   "metadata": {},
   "outputs": [
    {
     "data": {
      "text/plain": [
       "array([ 5., -1.])"
      ]
     },
     "execution_count": 6,
     "metadata": {},
     "output_type": "execute_result"
    }
   ],
   "source": [
    "autovalores"
   ]
  },
  {
   "cell_type": "code",
   "execution_count": 7,
   "id": "historic-copying",
   "metadata": {},
   "outputs": [
    {
     "data": {
      "text/plain": [
       "array([[ 0.70710678, -0.4472136 ],\n",
       "       [ 0.70710678,  0.89442719]])"
      ]
     },
     "execution_count": 7,
     "metadata": {},
     "output_type": "execute_result"
    }
   ],
   "source": [
    "autovectores"
   ]
  },
  {
   "cell_type": "code",
   "execution_count": 8,
   "id": "empirical-bulletin",
   "metadata": {},
   "outputs": [],
   "source": [
    "#V -> autolavoes\n",
    "#lamda -> autovectores\n",
    "#inversa -> v^-1\n",
    "A_calc = autovectores.dot(np.diag(autovalores)).dot(np.linalg.inv(autovectores))\n",
    "#M = autovectores * diag(autovalores) * inv_autovectores"
   ]
  },
  {
   "cell_type": "code",
   "execution_count": 9,
   "id": "operating-restriction",
   "metadata": {},
   "outputs": [
    {
     "data": {
      "text/plain": [
       "array([[3., 2.],\n",
       "       [4., 1.]])"
      ]
     },
     "execution_count": 9,
     "metadata": {},
     "output_type": "execute_result"
    }
   ],
   "source": [
    "A_calc"
   ]
  },
  {
   "cell_type": "code",
   "execution_count": 10,
   "id": "filled-politics",
   "metadata": {},
   "outputs": [
    {
     "data": {
      "text/plain": [
       "array([[3, 2],\n",
       "       [2, 3]])"
      ]
     },
     "execution_count": 10,
     "metadata": {},
     "output_type": "execute_result"
    }
   ],
   "source": [
    "A = np.array([\n",
    "    [3,2],\n",
    "    [2,3]\n",
    "])\n",
    "\n",
    "A"
   ]
  },
  {
   "cell_type": "code",
   "execution_count": 11,
   "id": "intimate-freeware",
   "metadata": {},
   "outputs": [
    {
     "name": "stdout",
     "output_type": "stream",
     "text": [
      "[[ True  True]\n",
      " [ True  True]]\n"
     ]
    }
   ],
   "source": [
    "print(A == A.T)"
   ]
  },
  {
   "cell_type": "code",
   "execution_count": 12,
   "id": "streaming-safety",
   "metadata": {},
   "outputs": [],
   "source": [
    "autovalores, autovectores = np.linalg.eig(A)"
   ]
  },
  {
   "cell_type": "code",
   "execution_count": 13,
   "id": "promotional-trader",
   "metadata": {},
   "outputs": [
    {
     "data": {
      "text/plain": [
       "(array([5., 1.]),\n",
       " array([[ 0.70710678, -0.70710678],\n",
       "        [ 0.70710678,  0.70710678]]))"
      ]
     },
     "execution_count": 13,
     "metadata": {},
     "output_type": "execute_result"
    }
   ],
   "source": [
    "autovalores, autovectores"
   ]
  },
  {
   "cell_type": "code",
   "execution_count": 14,
   "id": "republican-karen",
   "metadata": {},
   "outputs": [],
   "source": [
    "A_calc = autovectores.dot(np.diag(autovalores)).dot(autovectores.T)"
   ]
  },
  {
   "cell_type": "code",
   "execution_count": 15,
   "id": "brazilian-behavior",
   "metadata": {},
   "outputs": [
    {
     "data": {
      "text/plain": [
       "array([[3., 2.],\n",
       "       [2., 3.]])"
      ]
     },
     "execution_count": 15,
     "metadata": {},
     "output_type": "execute_result"
    }
   ],
   "source": [
    "A_calc"
   ]
  },
  {
   "cell_type": "code",
   "execution_count": null,
   "id": "comic-aspect",
   "metadata": {},
   "outputs": [],
   "source": []
  }
 ],
 "metadata": {
  "kernelspec": {
   "display_name": "Python 3",
   "language": "python",
   "name": "python3"
  },
  "language_info": {
   "codemirror_mode": {
    "name": "ipython",
    "version": 3
   },
   "file_extension": ".py",
   "mimetype": "text/x-python",
   "name": "python",
   "nbconvert_exporter": "python",
   "pygments_lexer": "ipython3",
   "version": "3.8.5"
  }
 },
 "nbformat": 4,
 "nbformat_minor": 5
}
